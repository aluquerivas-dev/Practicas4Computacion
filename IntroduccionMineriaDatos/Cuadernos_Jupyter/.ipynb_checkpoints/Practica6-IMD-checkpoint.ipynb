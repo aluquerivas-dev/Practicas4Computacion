{
 "cells": [
  {
   "cell_type": "markdown",
   "metadata": {},
   "source": [
    "<img src=\"./img/p6/portada.png\" />"
   ]
  },
  {
   "cell_type": "code",
   "execution_count": 2,
   "metadata": {},
   "outputs": [
    {
     "name": "stdout",
     "output_type": "stream",
     "text": [
      "Base de datos: ./data/p6/datasets/glass.arff\n",
      "Clustering con K-MEANS\n",
      "[0 0 0 1 2 0 0 0 1 0 0 0 0 0 0 0 1 0 2 0 0 2 0 0 0 0 0 1 0 0 0 0 1 0 0 0 0\n",
      " 0 0 0 0 0 0 0 0 0 0 0 0 0 0 0 0 0 1 0 0 0 0 0 0 0 0 0 0 1 0 0 2 0 0 0 1 0\n",
      " 0 0 0 0 0 0 0 0 0 0 2 0 2 0 0 2 1 0 0 0 1 0 1 2 0 0 0 0 1 1 1 1 0 1 0 2 0\n",
      " 1 0 1 0 0 0 0 2 0 0 0 0 2 2 0 1 1 0 0 0 0 1 0 2 0 0 0 0 0 0 0 0 1 0 0 0 0\n",
      " 0 0 0 0 2 0 0 0 1 0 0 0 2 0 1 1 2 0 0 0 0 1 0 0 0 1 0 1 0 0 2 2 0 0 0 2 0\n",
      " 1 0 0 0 2 0 0 0 1 2 0 0 0 0 0 0 0 0 0 0 0 1 0 0 0 0 0 0 0]\n",
      "Puntuacion de homogeneidad:\n"
     ]
    },
    {
     "ename": "ValueError",
     "evalue": "labels_true must be 1D: shape is (214, 9)",
     "output_type": "error",
     "traceback": [
      "\u001b[1;31m---------------------------------------------------------------------------\u001b[0m",
      "\u001b[1;31mValueError\u001b[0m                                Traceback (most recent call last)",
      "\u001b[1;32m<ipython-input-2-6e638de9a5d1>\u001b[0m in \u001b[0;36m<module>\u001b[1;34m\u001b[0m\n\u001b[0;32m     27\u001b[0m \u001b[0mprint\u001b[0m\u001b[1;33m(\u001b[0m\u001b[0mresults\u001b[0m\u001b[1;33m.\u001b[0m\u001b[0mlabels_\u001b[0m\u001b[1;33m)\u001b[0m \u001b[1;31m# Imprimimos el Clustering realizado\u001b[0m\u001b[1;33m\u001b[0m\u001b[1;33m\u001b[0m\u001b[0m\n\u001b[0;32m     28\u001b[0m \u001b[0mprint\u001b[0m\u001b[1;33m(\u001b[0m\u001b[1;34m'Puntuacion de homogeneidad:'\u001b[0m\u001b[1;33m)\u001b[0m\u001b[1;33m\u001b[0m\u001b[1;33m\u001b[0m\u001b[0m\n\u001b[1;32m---> 29\u001b[1;33m \u001b[0mprint\u001b[0m\u001b[1;33m(\u001b[0m\u001b[0mhomogeneity_score\u001b[0m\u001b[1;33m(\u001b[0m\u001b[0mdata\u001b[0m\u001b[1;33m,\u001b[0m\u001b[0mkmeans\u001b[0m\u001b[1;33m.\u001b[0m\u001b[0mlabels_\u001b[0m\u001b[1;33m)\u001b[0m\u001b[1;33m)\u001b[0m\u001b[1;33m\u001b[0m\u001b[1;33m\u001b[0m\u001b[0m\n\u001b[0m\u001b[0;32m     30\u001b[0m \u001b[1;33m\u001b[0m\u001b[0m\n\u001b[0;32m     31\u001b[0m \u001b[1;33m\u001b[0m\u001b[0m\n",
      "\u001b[1;32mc:\\users\\aluqu\\appdata\\local\\programs\\python\\python37-32\\lib\\site-packages\\sklearn\\metrics\\cluster\\supervised.py\u001b[0m in \u001b[0;36mhomogeneity_score\u001b[1;34m(labels_true, labels_pred)\u001b[0m\n\u001b[0;32m    393\u001b[0m \u001b[1;33m\u001b[0m\u001b[0m\n\u001b[0;32m    394\u001b[0m     \"\"\"\n\u001b[1;32m--> 395\u001b[1;33m     \u001b[1;32mreturn\u001b[0m \u001b[0mhomogeneity_completeness_v_measure\u001b[0m\u001b[1;33m(\u001b[0m\u001b[0mlabels_true\u001b[0m\u001b[1;33m,\u001b[0m \u001b[0mlabels_pred\u001b[0m\u001b[1;33m)\u001b[0m\u001b[1;33m[\u001b[0m\u001b[1;36m0\u001b[0m\u001b[1;33m]\u001b[0m\u001b[1;33m\u001b[0m\u001b[1;33m\u001b[0m\u001b[0m\n\u001b[0m\u001b[0;32m    396\u001b[0m \u001b[1;33m\u001b[0m\u001b[0m\n\u001b[0;32m    397\u001b[0m \u001b[1;33m\u001b[0m\u001b[0m\n",
      "\u001b[1;32mc:\\users\\aluqu\\appdata\\local\\programs\\python\\python37-32\\lib\\site-packages\\sklearn\\metrics\\cluster\\supervised.py\u001b[0m in \u001b[0;36mhomogeneity_completeness_v_measure\u001b[1;34m(labels_true, labels_pred, beta)\u001b[0m\n\u001b[0;32m    299\u001b[0m     \u001b[0mv_measure_score\u001b[0m\u001b[1;33m\u001b[0m\u001b[1;33m\u001b[0m\u001b[0m\n\u001b[0;32m    300\u001b[0m     \"\"\"\n\u001b[1;32m--> 301\u001b[1;33m     \u001b[0mlabels_true\u001b[0m\u001b[1;33m,\u001b[0m \u001b[0mlabels_pred\u001b[0m \u001b[1;33m=\u001b[0m \u001b[0mcheck_clusterings\u001b[0m\u001b[1;33m(\u001b[0m\u001b[0mlabels_true\u001b[0m\u001b[1;33m,\u001b[0m \u001b[0mlabels_pred\u001b[0m\u001b[1;33m)\u001b[0m\u001b[1;33m\u001b[0m\u001b[1;33m\u001b[0m\u001b[0m\n\u001b[0m\u001b[0;32m    302\u001b[0m \u001b[1;33m\u001b[0m\u001b[0m\n\u001b[0;32m    303\u001b[0m     \u001b[1;32mif\u001b[0m \u001b[0mlen\u001b[0m\u001b[1;33m(\u001b[0m\u001b[0mlabels_true\u001b[0m\u001b[1;33m)\u001b[0m \u001b[1;33m==\u001b[0m \u001b[1;36m0\u001b[0m\u001b[1;33m:\u001b[0m\u001b[1;33m\u001b[0m\u001b[1;33m\u001b[0m\u001b[0m\n",
      "\u001b[1;32mc:\\users\\aluqu\\appdata\\local\\programs\\python\\python37-32\\lib\\site-packages\\sklearn\\metrics\\cluster\\supervised.py\u001b[0m in \u001b[0;36mcheck_clusterings\u001b[1;34m(labels_true, labels_pred)\u001b[0m\n\u001b[0;32m     50\u001b[0m     \u001b[1;32mif\u001b[0m \u001b[0mlabels_true\u001b[0m\u001b[1;33m.\u001b[0m\u001b[0mndim\u001b[0m \u001b[1;33m!=\u001b[0m \u001b[1;36m1\u001b[0m\u001b[1;33m:\u001b[0m\u001b[1;33m\u001b[0m\u001b[1;33m\u001b[0m\u001b[0m\n\u001b[0;32m     51\u001b[0m         raise ValueError(\n\u001b[1;32m---> 52\u001b[1;33m             \"labels_true must be 1D: shape is %r\" % (labels_true.shape,))\n\u001b[0m\u001b[0;32m     53\u001b[0m     \u001b[1;32mif\u001b[0m \u001b[0mlabels_pred\u001b[0m\u001b[1;33m.\u001b[0m\u001b[0mndim\u001b[0m \u001b[1;33m!=\u001b[0m \u001b[1;36m1\u001b[0m\u001b[1;33m:\u001b[0m\u001b[1;33m\u001b[0m\u001b[1;33m\u001b[0m\u001b[0m\n\u001b[0;32m     54\u001b[0m         raise ValueError(\n",
      "\u001b[1;31mValueError\u001b[0m: labels_true must be 1D: shape is (214, 9)"
     ]
    }
   ],
   "source": [
    "# -*- coding: utf-8 -*-\n",
    "\n",
    "from scipy.io import arff\n",
    "from sklearn.model_selection import train_test_split\n",
    "import pandas as pd\n",
    "from sklearn.cluster import KMeans\n",
    "from sklearn.cluster import AgglomerativeClustering\n",
    "from sklearn.metrics.cluster import homogeneity_score\n",
    "\n",
    "\n",
    "basededatos='./data/p6/datasets/glass.arff'\n",
    "num_clusters=3\n",
    "\n",
    "print('Base de datos: ' + str(basededatos))\n",
    "dataset = arff.loadarff(str(basededatos))\n",
    "df = pd.DataFrame(dataset[0])\n",
    "data = df.iloc[:, df.columns != 'class']\n",
    "target = pd.factorize(df['class'])[0]\n",
    "X_train, X_test, Y_train, Y_test = train_test_split(data, target, test_size=0.4)\n",
    "#EN ESTA PRACTICA NO SE USARA LA INFORMACION DE LA CLASE\n",
    "#Ajustar los clusters segun las clases conocidas\n",
    "\n",
    "\n",
    "print('Clustering con K-MEANS')\n",
    "kmeans=KMeans(n_clusters=num_clusters, random_state=0)\n",
    "results=kmeans.fit(data)\n",
    "print(results.labels_) # Imprimimos el Clustering realizado\n",
    "print('Puntuacion de homogeneidad:')\n",
    "print(homogeneity_score(data,kmeans.labels_))\n",
    "\n",
    "\n",
    "\n",
    "print('Clustering con SINGLE LINK')\n",
    "single=AgglomerativeClustering(n_clusters=num_clusters, linkage='single')\n",
    "results=single.fit(data)\n",
    "print(results.labels_)\n",
    "\n",
    "\n",
    "\n",
    "print('Clustering con COMPLETE LINK')\n",
    "complete=AgglomerativeClustering(n_clusters=num_clusters,linkage='complete')\n",
    "results=complete.fit(data)\n",
    "print(results.labels_)\n",
    "\n",
    "\n",
    "\n",
    "print('Custering con AVERAGE LINK')\n",
    "average=AgglomerativeClustering(n_clusters=num_clusters, linkage='average')\n",
    "results=average.fit(data)\n",
    "print(results.labels_)"
   ]
  },
  {
   "cell_type": "code",
   "execution_count": null,
   "metadata": {},
   "outputs": [],
   "source": []
  },
  {
   "cell_type": "code",
   "execution_count": null,
   "metadata": {},
   "outputs": [],
   "source": []
  }
 ],
 "metadata": {
  "kernelspec": {
   "display_name": "Python 3",
   "language": "python",
   "name": "python3"
  },
  "language_info": {
   "codemirror_mode": {
    "name": "ipython",
    "version": 3
   },
   "file_extension": ".py",
   "mimetype": "text/x-python",
   "name": "python",
   "nbconvert_exporter": "python",
   "pygments_lexer": "ipython3",
   "version": "3.7.4"
  }
 },
 "nbformat": 4,
 "nbformat_minor": 2
}
